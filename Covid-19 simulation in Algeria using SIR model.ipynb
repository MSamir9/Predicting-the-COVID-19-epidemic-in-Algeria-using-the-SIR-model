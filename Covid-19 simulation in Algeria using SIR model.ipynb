{
  "nbformat": 4,
  "nbformat_minor": 0,
  "metadata": {
    "kernelspec": {
      "display_name": "Python 3",
      "language": "python",
      "name": "python3"
    },
    "language_info": {
      "codemirror_mode": {
        "name": "ipython",
        "version": 3
      },
      "file_extension": ".py",
      "mimetype": "text/x-python",
      "name": "python",
      "nbconvert_exporter": "python",
      "pygments_lexer": "ipython3",
      "version": "3.6.4"
    },
    "colab": {
      "name": "Covid-19 simulation in Algeria using SIR model.ipynb",
      "provenance": []
    }
  },
  "cells": [
    {
      "cell_type": "code",
      "metadata": {
        "id": "yz-ekeX97rfb"
      },
      "source": [
        "import numpy as np \n",
        "import pandas as pd \n",
        "import matplotlib.pyplot as plt\n",
        "import seaborn as sns\n",
        "from sklearn import preprocessing\n",
        "import time\n",
        "from datetime import datetime\n",
        "from scipy import integrate, optimize\n",
        "import warnings\n",
        "warnings.filterwarnings('ignore')"
      ],
      "execution_count": null,
      "outputs": []
    },
    {
      "cell_type": "code",
      "metadata": {
        "id": "nF2aq3Ch7rfh",
        "outputId": "dd1c94fd-9a6e-43d4-a329-84bf7603cdff"
      },
      "source": [
        "train = pd.read_csv(\"data.csv\")\n",
        "train.Province_State.fillna(\"None\", inplace=True)\n",
        "display(train.head(5))\n",
        "display(train.describe())\n",
        "print(\"Number of Country_Region: \", train['Country_Region'].nunique())\n",
        "print(\"Dates go from day\", min(train['Date']), \"to day\", max(train['Date']), \", a total of\", train['Date'].nunique(), \"days\")\n",
        "print(\"Countries with Province/State informed: \", train.loc[train['Province_State']!='None']['Country_Region'].unique())"
      ],
      "execution_count": null,
      "outputs": [
        {
          "output_type": "display_data",
          "data": {
            "text/html": [
              "<div>\n",
              "<style scoped>\n",
              "    .dataframe tbody tr th:only-of-type {\n",
              "        vertical-align: middle;\n",
              "    }\n",
              "\n",
              "    .dataframe tbody tr th {\n",
              "        vertical-align: top;\n",
              "    }\n",
              "\n",
              "    .dataframe thead th {\n",
              "        text-align: right;\n",
              "    }\n",
              "</style>\n",
              "<table border=\"1\" class=\"dataframe\">\n",
              "  <thead>\n",
              "    <tr style=\"text-align: right;\">\n",
              "      <th></th>\n",
              "      <th>Id</th>\n",
              "      <th>Province_State</th>\n",
              "      <th>Country_Region</th>\n",
              "      <th>Date</th>\n",
              "      <th>ConfirmedCases</th>\n",
              "      <th>Fatalities</th>\n",
              "    </tr>\n",
              "  </thead>\n",
              "  <tbody>\n",
              "    <tr>\n",
              "      <th>0</th>\n",
              "      <td>1</td>\n",
              "      <td>None</td>\n",
              "      <td>Afghanistan</td>\n",
              "      <td>2020-01-22</td>\n",
              "      <td>0.0</td>\n",
              "      <td>0.0</td>\n",
              "    </tr>\n",
              "    <tr>\n",
              "      <th>1</th>\n",
              "      <td>2</td>\n",
              "      <td>None</td>\n",
              "      <td>Afghanistan</td>\n",
              "      <td>2020-01-23</td>\n",
              "      <td>0.0</td>\n",
              "      <td>0.0</td>\n",
              "    </tr>\n",
              "    <tr>\n",
              "      <th>2</th>\n",
              "      <td>3</td>\n",
              "      <td>None</td>\n",
              "      <td>Afghanistan</td>\n",
              "      <td>2020-01-24</td>\n",
              "      <td>0.0</td>\n",
              "      <td>0.0</td>\n",
              "    </tr>\n",
              "    <tr>\n",
              "      <th>3</th>\n",
              "      <td>4</td>\n",
              "      <td>None</td>\n",
              "      <td>Afghanistan</td>\n",
              "      <td>2020-01-25</td>\n",
              "      <td>0.0</td>\n",
              "      <td>0.0</td>\n",
              "    </tr>\n",
              "    <tr>\n",
              "      <th>4</th>\n",
              "      <td>5</td>\n",
              "      <td>None</td>\n",
              "      <td>Afghanistan</td>\n",
              "      <td>2020-01-26</td>\n",
              "      <td>0.0</td>\n",
              "      <td>0.0</td>\n",
              "    </tr>\n",
              "  </tbody>\n",
              "</table>\n",
              "</div>"
            ],
            "text/plain": [
              "   Id Province_State Country_Region        Date  ConfirmedCases  Fatalities\n",
              "0   1           None    Afghanistan  2020-01-22             0.0         0.0\n",
              "1   2           None    Afghanistan  2020-01-23             0.0         0.0\n",
              "2   3           None    Afghanistan  2020-01-24             0.0         0.0\n",
              "3   4           None    Afghanistan  2020-01-25             0.0         0.0\n",
              "4   5           None    Afghanistan  2020-01-26             0.0         0.0"
            ]
          },
          "metadata": {
            "tags": []
          }
        },
        {
          "output_type": "display_data",
          "data": {
            "text/html": [
              "<div>\n",
              "<style scoped>\n",
              "    .dataframe tbody tr th:only-of-type {\n",
              "        vertical-align: middle;\n",
              "    }\n",
              "\n",
              "    .dataframe tbody tr th {\n",
              "        vertical-align: top;\n",
              "    }\n",
              "\n",
              "    .dataframe thead th {\n",
              "        text-align: right;\n",
              "    }\n",
              "</style>\n",
              "<table border=\"1\" class=\"dataframe\">\n",
              "  <thead>\n",
              "    <tr style=\"text-align: right;\">\n",
              "      <th></th>\n",
              "      <th>Id</th>\n",
              "      <th>ConfirmedCases</th>\n",
              "      <th>Fatalities</th>\n",
              "    </tr>\n",
              "  </thead>\n",
              "  <tbody>\n",
              "    <tr>\n",
              "      <th>count</th>\n",
              "      <td>31300.000000</td>\n",
              "      <td>31300.000000</td>\n",
              "      <td>31300.000000</td>\n",
              "    </tr>\n",
              "    <tr>\n",
              "      <th>mean</th>\n",
              "      <td>17834.500000</td>\n",
              "      <td>2352.257987</td>\n",
              "      <td>149.295304</td>\n",
              "    </tr>\n",
              "    <tr>\n",
              "      <th>std</th>\n",
              "      <td>10300.658578</td>\n",
              "      <td>13975.949676</td>\n",
              "      <td>1326.507243</td>\n",
              "    </tr>\n",
              "    <tr>\n",
              "      <th>min</th>\n",
              "      <td>1.000000</td>\n",
              "      <td>0.000000</td>\n",
              "      <td>0.000000</td>\n",
              "    </tr>\n",
              "    <tr>\n",
              "      <th>25%</th>\n",
              "      <td>8917.750000</td>\n",
              "      <td>0.000000</td>\n",
              "      <td>0.000000</td>\n",
              "    </tr>\n",
              "    <tr>\n",
              "      <th>50%</th>\n",
              "      <td>17834.500000</td>\n",
              "      <td>8.000000</td>\n",
              "      <td>0.000000</td>\n",
              "    </tr>\n",
              "    <tr>\n",
              "      <th>75%</th>\n",
              "      <td>26751.250000</td>\n",
              "      <td>288.000000</td>\n",
              "      <td>3.000000</td>\n",
              "    </tr>\n",
              "    <tr>\n",
              "      <th>max</th>\n",
              "      <td>35668.000000</td>\n",
              "      <td>304372.000000</td>\n",
              "      <td>27967.000000</td>\n",
              "    </tr>\n",
              "  </tbody>\n",
              "</table>\n",
              "</div>"
            ],
            "text/plain": [
              "                 Id  ConfirmedCases    Fatalities\n",
              "count  31300.000000    31300.000000  31300.000000\n",
              "mean   17834.500000     2352.257987    149.295304\n",
              "std    10300.658578    13975.949676   1326.507243\n",
              "min        1.000000        0.000000      0.000000\n",
              "25%     8917.750000        0.000000      0.000000\n",
              "50%    17834.500000        8.000000      0.000000\n",
              "75%    26751.250000      288.000000      3.000000\n",
              "max    35668.000000   304372.000000  27967.000000"
            ]
          },
          "metadata": {
            "tags": []
          }
        },
        {
          "output_type": "stream",
          "text": [
            "Number of Country_Region:  184\n",
            "Dates go from day 2020-01-22 to day 2020-04-30 , a total of 100 days\n",
            "Countries with Province/State informed:  ['Australia' 'Canada' 'China' 'Denmark' 'France' 'Netherlands' 'US'\n",
            " 'United Kingdom']\n"
          ],
          "name": "stdout"
        }
      ]
    },
    {
      "cell_type": "code",
      "metadata": {
        "id": "flKr8X6O7rfj",
        "outputId": "97cdffc3-be94-484a-b875-d19f29392575"
      },
      "source": [
        "population = float(42000000)\n",
        "country_df = pd.DataFrame()\n",
        "country_df['ConfirmedCases'] = train.loc[train['Country_Region']=='Algeria'].ConfirmedCases.diff().fillna(0)\n",
        "country_df = country_df[34:94]\n",
        "country_df['date'] = pd.date_range(start='2/25/2020', periods=len(country_df), freq='D')\n",
        "country_df\n"
      ],
      "execution_count": null,
      "outputs": [
        {
          "output_type": "execute_result",
          "data": {
            "text/html": [
              "<div>\n",
              "<style scoped>\n",
              "    .dataframe tbody tr th:only-of-type {\n",
              "        vertical-align: middle;\n",
              "    }\n",
              "\n",
              "    .dataframe tbody tr th {\n",
              "        vertical-align: top;\n",
              "    }\n",
              "\n",
              "    .dataframe thead th {\n",
              "        text-align: right;\n",
              "    }\n",
              "</style>\n",
              "<table border=\"1\" class=\"dataframe\">\n",
              "  <thead>\n",
              "    <tr style=\"text-align: right;\">\n",
              "      <th></th>\n",
              "      <th>ConfirmedCases</th>\n",
              "      <th>date</th>\n",
              "    </tr>\n",
              "  </thead>\n",
              "  <tbody>\n",
              "    <tr>\n",
              "      <th>234</th>\n",
              "      <td>1.0</td>\n",
              "      <td>2020-02-25</td>\n",
              "    </tr>\n",
              "    <tr>\n",
              "      <th>235</th>\n",
              "      <td>0.0</td>\n",
              "      <td>2020-02-26</td>\n",
              "    </tr>\n",
              "    <tr>\n",
              "      <th>236</th>\n",
              "      <td>0.0</td>\n",
              "      <td>2020-02-27</td>\n",
              "    </tr>\n",
              "    <tr>\n",
              "      <th>237</th>\n",
              "      <td>0.0</td>\n",
              "      <td>2020-02-28</td>\n",
              "    </tr>\n",
              "    <tr>\n",
              "      <th>238</th>\n",
              "      <td>0.0</td>\n",
              "      <td>2020-02-29</td>\n",
              "    </tr>\n",
              "    <tr>\n",
              "      <th>239</th>\n",
              "      <td>0.0</td>\n",
              "      <td>2020-03-01</td>\n",
              "    </tr>\n",
              "    <tr>\n",
              "      <th>240</th>\n",
              "      <td>2.0</td>\n",
              "      <td>2020-03-02</td>\n",
              "    </tr>\n",
              "    <tr>\n",
              "      <th>241</th>\n",
              "      <td>2.0</td>\n",
              "      <td>2020-03-03</td>\n",
              "    </tr>\n",
              "    <tr>\n",
              "      <th>242</th>\n",
              "      <td>7.0</td>\n",
              "      <td>2020-03-04</td>\n",
              "    </tr>\n",
              "    <tr>\n",
              "      <th>243</th>\n",
              "      <td>0.0</td>\n",
              "      <td>2020-03-05</td>\n",
              "    </tr>\n",
              "    <tr>\n",
              "      <th>244</th>\n",
              "      <td>5.0</td>\n",
              "      <td>2020-03-06</td>\n",
              "    </tr>\n",
              "    <tr>\n",
              "      <th>245</th>\n",
              "      <td>0.0</td>\n",
              "      <td>2020-03-07</td>\n",
              "    </tr>\n",
              "    <tr>\n",
              "      <th>246</th>\n",
              "      <td>2.0</td>\n",
              "      <td>2020-03-08</td>\n",
              "    </tr>\n",
              "    <tr>\n",
              "      <th>247</th>\n",
              "      <td>1.0</td>\n",
              "      <td>2020-03-09</td>\n",
              "    </tr>\n",
              "    <tr>\n",
              "      <th>248</th>\n",
              "      <td>0.0</td>\n",
              "      <td>2020-03-10</td>\n",
              "    </tr>\n",
              "    <tr>\n",
              "      <th>249</th>\n",
              "      <td>0.0</td>\n",
              "      <td>2020-03-11</td>\n",
              "    </tr>\n",
              "    <tr>\n",
              "      <th>250</th>\n",
              "      <td>4.0</td>\n",
              "      <td>2020-03-12</td>\n",
              "    </tr>\n",
              "    <tr>\n",
              "      <th>251</th>\n",
              "      <td>2.0</td>\n",
              "      <td>2020-03-13</td>\n",
              "    </tr>\n",
              "    <tr>\n",
              "      <th>252</th>\n",
              "      <td>11.0</td>\n",
              "      <td>2020-03-14</td>\n",
              "    </tr>\n",
              "    <tr>\n",
              "      <th>253</th>\n",
              "      <td>11.0</td>\n",
              "      <td>2020-03-15</td>\n",
              "    </tr>\n",
              "    <tr>\n",
              "      <th>254</th>\n",
              "      <td>6.0</td>\n",
              "      <td>2020-03-16</td>\n",
              "    </tr>\n",
              "    <tr>\n",
              "      <th>255</th>\n",
              "      <td>6.0</td>\n",
              "      <td>2020-03-17</td>\n",
              "    </tr>\n",
              "    <tr>\n",
              "      <th>256</th>\n",
              "      <td>14.0</td>\n",
              "      <td>2020-03-18</td>\n",
              "    </tr>\n",
              "    <tr>\n",
              "      <th>257</th>\n",
              "      <td>13.0</td>\n",
              "      <td>2020-03-19</td>\n",
              "    </tr>\n",
              "    <tr>\n",
              "      <th>258</th>\n",
              "      <td>3.0</td>\n",
              "      <td>2020-03-20</td>\n",
              "    </tr>\n",
              "    <tr>\n",
              "      <th>259</th>\n",
              "      <td>49.0</td>\n",
              "      <td>2020-03-21</td>\n",
              "    </tr>\n",
              "    <tr>\n",
              "      <th>260</th>\n",
              "      <td>62.0</td>\n",
              "      <td>2020-03-22</td>\n",
              "    </tr>\n",
              "    <tr>\n",
              "      <th>261</th>\n",
              "      <td>29.0</td>\n",
              "      <td>2020-03-23</td>\n",
              "    </tr>\n",
              "    <tr>\n",
              "      <th>262</th>\n",
              "      <td>34.0</td>\n",
              "      <td>2020-03-24</td>\n",
              "    </tr>\n",
              "    <tr>\n",
              "      <th>263</th>\n",
              "      <td>38.0</td>\n",
              "      <td>2020-03-25</td>\n",
              "    </tr>\n",
              "    <tr>\n",
              "      <th>264</th>\n",
              "      <td>65.0</td>\n",
              "      <td>2020-03-26</td>\n",
              "    </tr>\n",
              "    <tr>\n",
              "      <th>265</th>\n",
              "      <td>42.0</td>\n",
              "      <td>2020-03-27</td>\n",
              "    </tr>\n",
              "    <tr>\n",
              "      <th>266</th>\n",
              "      <td>45.0</td>\n",
              "      <td>2020-03-28</td>\n",
              "    </tr>\n",
              "    <tr>\n",
              "      <th>267</th>\n",
              "      <td>57.0</td>\n",
              "      <td>2020-03-29</td>\n",
              "    </tr>\n",
              "    <tr>\n",
              "      <th>268</th>\n",
              "      <td>73.0</td>\n",
              "      <td>2020-03-30</td>\n",
              "    </tr>\n",
              "    <tr>\n",
              "      <th>269</th>\n",
              "      <td>132.0</td>\n",
              "      <td>2020-03-31</td>\n",
              "    </tr>\n",
              "    <tr>\n",
              "      <th>270</th>\n",
              "      <td>131.0</td>\n",
              "      <td>2020-04-01</td>\n",
              "    </tr>\n",
              "    <tr>\n",
              "      <th>271</th>\n",
              "      <td>139.0</td>\n",
              "      <td>2020-04-02</td>\n",
              "    </tr>\n",
              "    <tr>\n",
              "      <th>272</th>\n",
              "      <td>185.0</td>\n",
              "      <td>2020-04-03</td>\n",
              "    </tr>\n",
              "    <tr>\n",
              "      <th>273</th>\n",
              "      <td>80.0</td>\n",
              "      <td>2020-04-04</td>\n",
              "    </tr>\n",
              "    <tr>\n",
              "      <th>274</th>\n",
              "      <td>69.0</td>\n",
              "      <td>2020-04-05</td>\n",
              "    </tr>\n",
              "    <tr>\n",
              "      <th>275</th>\n",
              "      <td>103.0</td>\n",
              "      <td>2020-04-06</td>\n",
              "    </tr>\n",
              "    <tr>\n",
              "      <th>276</th>\n",
              "      <td>45.0</td>\n",
              "      <td>2020-04-07</td>\n",
              "    </tr>\n",
              "    <tr>\n",
              "      <th>277</th>\n",
              "      <td>104.0</td>\n",
              "      <td>2020-04-08</td>\n",
              "    </tr>\n",
              "    <tr>\n",
              "      <th>278</th>\n",
              "      <td>94.0</td>\n",
              "      <td>2020-04-09</td>\n",
              "    </tr>\n",
              "    <tr>\n",
              "      <th>279</th>\n",
              "      <td>95.0</td>\n",
              "      <td>2020-04-10</td>\n",
              "    </tr>\n",
              "    <tr>\n",
              "      <th>280</th>\n",
              "      <td>64.0</td>\n",
              "      <td>2020-04-11</td>\n",
              "    </tr>\n",
              "    <tr>\n",
              "      <th>281</th>\n",
              "      <td>89.0</td>\n",
              "      <td>2020-04-12</td>\n",
              "    </tr>\n",
              "    <tr>\n",
              "      <th>282</th>\n",
              "      <td>69.0</td>\n",
              "      <td>2020-04-13</td>\n",
              "    </tr>\n",
              "    <tr>\n",
              "      <th>283</th>\n",
              "      <td>87.0</td>\n",
              "      <td>2020-04-14</td>\n",
              "    </tr>\n",
              "    <tr>\n",
              "      <th>284</th>\n",
              "      <td>90.0</td>\n",
              "      <td>2020-04-15</td>\n",
              "    </tr>\n",
              "    <tr>\n",
              "      <th>285</th>\n",
              "      <td>108.0</td>\n",
              "      <td>2020-04-16</td>\n",
              "    </tr>\n",
              "    <tr>\n",
              "      <th>286</th>\n",
              "      <td>150.0</td>\n",
              "      <td>2020-04-17</td>\n",
              "    </tr>\n",
              "    <tr>\n",
              "      <th>287</th>\n",
              "      <td>116.0</td>\n",
              "      <td>2020-04-18</td>\n",
              "    </tr>\n",
              "    <tr>\n",
              "      <th>288</th>\n",
              "      <td>95.0</td>\n",
              "      <td>2020-04-19</td>\n",
              "    </tr>\n",
              "    <tr>\n",
              "      <th>289</th>\n",
              "      <td>89.0</td>\n",
              "      <td>2020-04-20</td>\n",
              "    </tr>\n",
              "    <tr>\n",
              "      <th>290</th>\n",
              "      <td>93.0</td>\n",
              "      <td>2020-04-21</td>\n",
              "    </tr>\n",
              "    <tr>\n",
              "      <th>291</th>\n",
              "      <td>99.0</td>\n",
              "      <td>2020-04-22</td>\n",
              "    </tr>\n",
              "    <tr>\n",
              "      <th>292</th>\n",
              "      <td>97.0</td>\n",
              "      <td>2020-04-23</td>\n",
              "    </tr>\n",
              "    <tr>\n",
              "      <th>293</th>\n",
              "      <td>120.0</td>\n",
              "      <td>2020-04-24</td>\n",
              "    </tr>\n",
              "  </tbody>\n",
              "</table>\n",
              "</div>"
            ],
            "text/plain": [
              "     ConfirmedCases       date\n",
              "234             1.0 2020-02-25\n",
              "235             0.0 2020-02-26\n",
              "236             0.0 2020-02-27\n",
              "237             0.0 2020-02-28\n",
              "238             0.0 2020-02-29\n",
              "239             0.0 2020-03-01\n",
              "240             2.0 2020-03-02\n",
              "241             2.0 2020-03-03\n",
              "242             7.0 2020-03-04\n",
              "243             0.0 2020-03-05\n",
              "244             5.0 2020-03-06\n",
              "245             0.0 2020-03-07\n",
              "246             2.0 2020-03-08\n",
              "247             1.0 2020-03-09\n",
              "248             0.0 2020-03-10\n",
              "249             0.0 2020-03-11\n",
              "250             4.0 2020-03-12\n",
              "251             2.0 2020-03-13\n",
              "252            11.0 2020-03-14\n",
              "253            11.0 2020-03-15\n",
              "254             6.0 2020-03-16\n",
              "255             6.0 2020-03-17\n",
              "256            14.0 2020-03-18\n",
              "257            13.0 2020-03-19\n",
              "258             3.0 2020-03-20\n",
              "259            49.0 2020-03-21\n",
              "260            62.0 2020-03-22\n",
              "261            29.0 2020-03-23\n",
              "262            34.0 2020-03-24\n",
              "263            38.0 2020-03-25\n",
              "264            65.0 2020-03-26\n",
              "265            42.0 2020-03-27\n",
              "266            45.0 2020-03-28\n",
              "267            57.0 2020-03-29\n",
              "268            73.0 2020-03-30\n",
              "269           132.0 2020-03-31\n",
              "270           131.0 2020-04-01\n",
              "271           139.0 2020-04-02\n",
              "272           185.0 2020-04-03\n",
              "273            80.0 2020-04-04\n",
              "274            69.0 2020-04-05\n",
              "275           103.0 2020-04-06\n",
              "276            45.0 2020-04-07\n",
              "277           104.0 2020-04-08\n",
              "278            94.0 2020-04-09\n",
              "279            95.0 2020-04-10\n",
              "280            64.0 2020-04-11\n",
              "281            89.0 2020-04-12\n",
              "282            69.0 2020-04-13\n",
              "283            87.0 2020-04-14\n",
              "284            90.0 2020-04-15\n",
              "285           108.0 2020-04-16\n",
              "286           150.0 2020-04-17\n",
              "287           116.0 2020-04-18\n",
              "288            95.0 2020-04-19\n",
              "289            89.0 2020-04-20\n",
              "290            93.0 2020-04-21\n",
              "291            99.0 2020-04-22\n",
              "292            97.0 2020-04-23\n",
              "293           120.0 2020-04-24"
            ]
          },
          "metadata": {
            "tags": []
          },
          "execution_count": 3
        }
      ]
    },
    {
      "cell_type": "code",
      "metadata": {
        "id": "1-CIRchf7rfm"
      },
      "source": [
        "import datetime as dt\n",
        "\n",
        "x = country_df[['date']]\n",
        "x = np.array(x['date'].map(dt.datetime.toordinal), dtype=float) #transform your data in a numpy array of floats \n",
        "x_scale = x - x[0] \n",
        "y = country_df[['ConfirmedCases']]\n",
        "y = np.array(y['ConfirmedCases'], dtype=float) #so the curve_fit can work\n",
        "\n",
        "\n"
      ],
      "execution_count": null,
      "outputs": []
    },
    {
      "cell_type": "code",
      "metadata": {
        "id": "0tuu5aqr7rfn"
      },
      "source": [
        "t = np.arange(460)\n",
        "\n",
        "# The SIR model differential equations.\n",
        "def deriv(y, t, N, beta, gamma):\n",
        "    S, I, R = y\n",
        "    dSdt = -beta * S * I / (N)\n",
        "    dIdt = beta * S * I / (N) - gamma * I\n",
        "    dRdt = gamma * I \n",
        "    return dSdt, dIdt, dRdt\n",
        "\n",
        "\n"
      ],
      "execution_count": null,
      "outputs": []
    },
    {
      "cell_type": "code",
      "metadata": {
        "id": "QfngoCL77rfo",
        "outputId": "655e3574-4d58-4753-ea14-b526a4d7c9e3"
      },
      "source": [
        "from scipy.integrate import odeint as ode\n",
        "from scipy.stats import poisson\n",
        "from scipy.stats import norm\n",
        "\n",
        "def model(ini, time_step, params):\n",
        "\tY = np.zeros(3) #column vector for the state variables\n",
        "\tX = ini\n",
        "\tbeta = params[0]\n",
        "\tgamma = params[1]\n",
        "\n",
        "\tY[0] = - beta*X[0]*X[1]  #S\n",
        "\tY[1] = beta*X[0]*X[1] - gamma*X[1] #I\n",
        "\tY[2] = gamma*X[1] #R\n",
        "\n",
        "\treturn Y\n",
        "\n",
        "def x0fcn(params, data):\n",
        "\tS0 = 1.0 - (data[0]/params[2])\n",
        "\tI0 = data[0]/params[2]\n",
        "\tR0 = 0.0\n",
        "\tX0 = [S0, I0, R0]\n",
        "\n",
        "\treturn X0\n",
        "\n",
        "def yfcn(res, params):\n",
        "\treturn res[:,1]*params[2]\n",
        "\n",
        "\n",
        "\n",
        "def NLL(params, data, times): #negative log likelihood\n",
        "\tparams = np.abs(params)\n",
        "\tdata = np.array(data)\n",
        "\tres = ode(model, x0fcn(params,data), times, args=(params,))\n",
        "\ty = yfcn(res, params)\n",
        "\tnll = sum(y) - sum(data*np.log(y))\n",
        "\t\n",
        "\t# nll = -sum(np.log(poisson.pmf(np.round(data),np.round(y)))) \n",
        "\t\n",
        "\t# ML using normally distributed measurement error (least squares)\n",
        "\t# nll = -sum(np.log(norm.pdf(data,y,0.1*np.mean(data)))) # example WLS assuming sigma = 0.1*mean(data)\n",
        "\t# nll = sum((y - data)**2)  # OLS\n",
        "\treturn nll\n",
        "\n",
        "\n",
        "\n",
        "#### Set initial parameter values and initial states of the optimal model ####\n",
        "params = [0.3, 0.1, 3127.0]#the params and inition states are float\n",
        "paramnames = ['beta', 'gamma', 'N']\n",
        "\n",
        "optimizer = optimize.minimize(NLL, params, args=(y, x_scale), method='Nelder-Mead')\n",
        "paramests = np.abs(optimizer.x)\n",
        "iniests = x0fcn(paramests, y)\n",
        "paramests\n"
      ],
      "execution_count": null,
      "outputs": [
        {
          "output_type": "execute_result",
          "data": {
            "text/plain": [
              "array([1.80060513e-01, 3.28793164e-02, 2.09873179e+02])"
            ]
          },
          "metadata": {
            "tags": []
          },
          "execution_count": 6
        }
      ]
    },
    {
      "cell_type": "code",
      "metadata": {
        "id": "6eATOTGW7rfr",
        "outputId": "7b849c39-b981-4586-e29c-63fcea49dbff"
      },
      "source": [
        "xest = ode(model, iniests, x_scale, args=(paramests,))\n",
        "est_measure = yfcn(xest, paramests)\n",
        "plt.plot(x_scale, est_measure, 'b-', linewidth=3, label='Predictions')\n",
        "plt.plot(x_scale, y, 'k-o', linewidth=2, label='original infected cases')\n",
        "#plt.title(\"Fit of the SIR model for Algeria infected cases with COVID-19\")\n",
        "plt.xlabel('Time (Days)')\n",
        "plt.ylabel('Individuals')\n",
        "plt.legend()\n",
        "plt.savefig('SIR.png')\n",
        "plt.show()"
      ],
      "execution_count": null,
      "outputs": [
        {
          "output_type": "display_data",
          "data": {
            "image/png": "[encoded data removed]",
            "text/plain": [
              "<matplotlib.figure.Figure at 0x93e14f0>"
            ]
          },
          "metadata": {
            "tags": []
          }
        }
      ]
    },
    {
      "cell_type": "code",
      "metadata": {
        "id": "7W5DhyyD7rfs",
        "outputId": "86dd259d-29e9-4ef6-cf8f-80905b59188a"
      },
      "source": [
        "from sklearn.metrics import mean_squared_log_error, mean_squared_error,mean_absolute_error\n",
        "MAE =mean_absolute_error(y,est_measure)\n",
        "int(MAE)"
      ],
      "execution_count": null,
      "outputs": [
        {
          "output_type": "execute_result",
          "data": {
            "text/plain": [
              "14"
            ]
          },
          "metadata": {
            "tags": []
          },
          "execution_count": 8
        }
      ]
    },
    {
      "cell_type": "code",
      "metadata": {
        "id": "bUMDedPc7rft",
        "outputId": "086a462c-ced5-44c3-ad1f-f3fef730445a"
      },
      "source": [
        "est_measure\n"
      ],
      "execution_count": null,
      "outputs": [
        {
          "output_type": "execute_result",
          "data": {
            "text/plain": [
              "array([  1.        ,   1.15747682,   1.33951642,   1.54986454,\n",
              "         1.79281609,   2.07328387,   2.39686723,   2.76994063,\n",
              "         3.19972848,   3.69440354,   4.26316975,   4.9163336 ,\n",
              "         5.6653772 ,   6.52300698,   7.50317049,   8.62103742,\n",
              "         9.89290192,  11.33603685,  12.96842741,  14.80839635,\n",
              "        16.87407626,  19.18273779,  21.74993557,  24.58849103,\n",
              "        27.70732588,  31.11019044,  34.79435594,  38.74937839,\n",
              "        42.95605863,  47.38573551,  52.0000623 ,  56.75138409,\n",
              "        61.58378739,  66.43482407,  71.23782798,  75.92466025,\n",
              "        80.42865446,  84.68749919,  88.6458013 ,  92.2571178 ,\n",
              "        95.4853171 ,  98.30521723, 100.70253261, 102.673228  ,\n",
              "       104.22242107, 105.36299185, 106.11405201, 106.49939886,\n",
              "       106.54606613, 106.28303812, 105.74011703, 104.94705956,\n",
              "       103.93285683, 102.72523576, 101.35029972,  99.83230967,\n",
              "        98.19357033,  96.45439851,  94.63315115,  92.74630084])"
            ]
          },
          "metadata": {
            "tags": []
          },
          "execution_count": 9
        }
      ]
    },
    {
      "cell_type": "code",
      "metadata": {
        "id": "mt-F5qmX7rfv"
      },
      "source": [
        "#beta = copy.deepcopy(popt)\n",
        "#print(\"beta: \" + str(beta) + \"\\ngamma: \"+ str(gamma))\n",
        "beta,gamma,N =paramests[0],paramests[1],paramests[2]\n",
        "beta,gamma,N\n",
        "I0,R0 = y[0], 0\n",
        "S0 = N - I0 - R0\n",
        "y0=S0,I0,R0\n"
      ],
      "execution_count": null,
      "outputs": []
    },
    {
      "cell_type": "code",
      "metadata": {
        "id": "xLAshlm97rfw",
        "outputId": "90d4acdb-29f0-48b0-ce72-1072f4ff528f"
      },
      "source": [
        "from scipy.integrate import odeint\n",
        "from datetime import datetime, timedelta\n",
        "\n",
        "\n",
        "# Integrate the SIR equations over the time grid, t. \n",
        "ret = odeint(deriv, y0, t, args=(N, beta, gamma))\n",
        "S, I, R = ret.T\n",
        "\n",
        "t_plot = np.arange(210)\n",
        "\n",
        "fig = plt.figure(facecolor='w', figsize=(10, 7))\n",
        "ax = fig.add_subplot(111, facecolor='#dddddd', axisbelow=True)\n",
        "#ax.plot(x_scale, y, 'ko', label=\"Original Confirmed Cases\")\n",
        "ax.bar(x_scale ,y,width=1,align='center',label=\"Original Confirmed Cases\")\n",
        "\n",
        "#ax.plot(t_plot, S[:len(t_plot)], 'b', alpha=0.5, lw=2, label='Susceptible')\n",
        "ax.plot(t_plot, I[:len(t_plot)], 'r', alpha=0.7, lw=3, label='Fit of Optimal SIR model')\n",
        "#ax.plot(t_plot, Io[:len(t_plot)], 'y', alpha=0.7, lw=3, label='Fit of SIR model in a worst-case scenario')\n",
        "\n",
        "#ax.plot(t_plot, R[:len(t_plot)], 'g', alpha=0.5, lw=2, label='Recovered')\n",
        "ax.grid(b=True, which='major', c='w', lw=2, ls='-')\n",
        "plt.xlabel('Time (days)')\n",
        "plt.ylabel('infected cases')\n",
        "ax.set_yscale('log')\n",
        "#ax.title.set_text('Prediction of the epidemic peak of COVID-19 in Algeria')\n",
        "plt.legend()\n",
        "plt.savefig('optimal SIR.png')\n",
        "plt.show()\n",
        "\n",
        "peak = int(t[np.where(I == max(I))[0][0]])\n",
        "peak_date = country_df['date'][234] + timedelta(days=peak)\n",
        "\n",
        "I_drop = I[t[np.where(I == max(I))[0][0]]:] \n",
        "end = int(t[np.where(I == I_drop[I_drop < 1][0])])\n",
        "end_date = country_df['date'][234] + timedelta(days=end)\n",
        "print(\"PEAK OF INFECTED CASES: \" + str(max(I)) + \"\\nPEAK DATE : \" + str(peak_date) + \"\\nEND DATE: \" + str(end_date))"
      ],
      "execution_count": null,
      "outputs": [
        {
          "output_type": "display_data",
          "data": {
            "image/png": "[encoded data removed]",
            "text/plain": [
              "<matplotlib.figure.Figure at 0xcb72930>"
            ]
          },
          "metadata": {
            "tags": []
          }
        },
        {
          "output_type": "stream",
          "text": [
            "PEAK OF INFECTED CASES: 106.54607029880273\n",
            "PEAK DATE : 2020-04-13 00:00:00\n",
            "END DATE: 2020-09-18 00:00:00\n"
          ],
          "name": "stdout"
        }
      ]
    },
    {
      "cell_type": "code",
      "metadata": {
        "id": "kpyXC9O27rf3",
        "outputId": "3520314b-9ec7-46eb-c085-3039e5a312f1"
      },
      "source": [
        "#### Set initial parameter values and initial states of the model in worst-case scenario ####\n",
        "params = [0.95, 0.75, 43812700.0]\n",
        "paramnames = ['beta', 'gamma', 'N']# N is the real population size\n",
        "\n",
        "optimizer = optimize.minimize(NLL, params, args=(y, x_scale), method='Nelder-Mead')\n",
        "paramests = np.abs(optimizer.x)\n",
        "iniests = x0fcn(paramests, y)\n",
        "paramests\n"
      ],
      "execution_count": null,
      "outputs": [
        {
          "output_type": "execute_result",
          "data": {
            "text/plain": [
              "array([8.90985281e-01, 7.98473875e-01, 4.37923173e+07])"
            ]
          },
          "metadata": {
            "tags": []
          },
          "execution_count": 19
        }
      ]
    },
    {
      "cell_type": "code",
      "metadata": {
        "id": "sw5EJ8KQ7rf5",
        "outputId": "719bb869-d7d6-4c79-ba37-a3799045d355"
      },
      "source": [
        "xest = ode(model, iniests, x_scale, args=(paramests,))\n",
        "est_measure = yfcn(xest, paramests)\n",
        "plt.plot(x_scale, est_measure, 'r-', linewidth=3, label='Predictions')\n",
        "plt.plot(x_scale, y, 'k-o', linewidth=2, label='original infected cases')\n",
        "#plt.title(\"Fit of the SIR model for Algeria infected cases with COVID-19\")\n",
        "plt.xlabel('Time (Days)')\n",
        "plt.ylabel('Individuals')\n",
        "plt.legend()\n",
        "plt.savefig('SIRw.png')\n",
        "plt.show()"
      ],
      "execution_count": null,
      "outputs": [
        {
          "output_type": "display_data",
          "data": {
            "image/png": "[encoded data removed]",
            "text/plain": [
              "<matplotlib.figure.Figure at 0xcbe5550>"
            ]
          },
          "metadata": {
            "tags": []
          }
        }
      ]
    },
    {
      "cell_type": "code",
      "metadata": {
        "id": "PqmEYNmH7rf6",
        "outputId": "918777b2-221e-4bed-8be9-20e929901f64"
      },
      "source": [
        "MAE =mean_absolute_error(y,est_measure)\n",
        "int(MAE)"
      ],
      "execution_count": null,
      "outputs": [
        {
          "output_type": "execute_result",
          "data": {
            "text/plain": [
              "30"
            ]
          },
          "metadata": {
            "tags": []
          },
          "execution_count": 22
        }
      ]
    },
    {
      "cell_type": "code",
      "metadata": {
        "id": "-Bpvh5fo7rf7"
      },
      "source": [
        "beta,gamma,N =paramests[0],paramests[1],paramests[2]\n",
        "beta,gamma,N\n",
        "Io_0,R0 = y[0], 0\n",
        "S0 = N - Io_0 - R0\n",
        "y0=S0,Io_0,R0"
      ],
      "execution_count": null,
      "outputs": []
    },
    {
      "cell_type": "code",
      "metadata": {
        "id": "XbdNp2ur7rf8",
        "outputId": "ac514988-e547-4746-bdf9-5b6da18224fd"
      },
      "source": [
        "ret = odeint(deriv, y0, t, args=(N, beta, gamma))\n",
        "S, Io, R = ret.T\n",
        "\n",
        "t_plot = np.arange(210)\n",
        "\n",
        "fig = plt.figure(facecolor='w', figsize=(10, 7))\n",
        "ax = fig.add_subplot(111, facecolor='#dddddd', axisbelow=True)\n",
        "#ax.plot(x_scale, y, 'ko', label=\"Original Confirmed Cases\")\n",
        "ax.bar(x_scale ,y,width=1,align='center',label=\"Original Confirmed Cases\")\n",
        "\n",
        "#ax.plot(t_plot, S[:len(t_plot)], 'b', alpha=0.5, lw=2, label='Susceptible')\n",
        "ax.plot(t_plot, I[:len(t_plot)], 'r', alpha=0.7, lw=3, label='Fit of Optimal SIR model')\n",
        "ax.plot(t_plot, Io[:len(t_plot)], 'y', alpha=0.7, lw=3, label='Fit of SIR model in a worst-case scenario')\n",
        "\n",
        "#ax.plot(t_plot, R[:len(t_plot)], 'g', alpha=0.5, lw=2, label='Recovered')\n",
        "ax.grid(b=True, which='major', c='w', lw=2, ls='-')\n",
        "plt.xlabel('Time (days)')\n",
        "plt.ylabel('infected cases')\n",
        "ax.set_yscale('log')\n",
        "ax.title.set_text('Prediction of the epidemic peak of COVID-19 in Algeria')\n",
        "plt.legend()\n",
        "plt.savefig('optimal VS worst-case scenario SIR.png')\n",
        "plt.show()\n",
        "\n",
        "peak = int(t[np.where(Io == max(Io))[0][0]])\n",
        "peak_date = country_df['date'][234] + timedelta(days=peak)\n",
        "\n",
        "I_drop = Io[t[np.where(Io == max(Io))[0][0]]:] \n",
        "end = int(t[np.where(Io == I_drop[I_drop < 50][0])])\n",
        "end_date = country_df['date'][234] + timedelta(days=end)\n",
        "print(\"PEAK OF INFECTED CASES: \" + str(max(Io)) + \"\\nPEAK DATE : \" + str(peak_date) + \"\\nEND DATE: \" + str(end_date))"
      ],
      "execution_count": null,
      "outputs": [
        {
          "output_type": "display_data",
          "data": {
            "image/png": "[encoded data removed]",
            "text/plain": [
              "<matplotlib.figure.Figure at 0xcdd5510>"
            ]
          },
          "metadata": {
            "tags": []
          }
        },
        {
          "output_type": "stream",
          "text": [
            "PEAK OF INFECTED CASES: 244625.08087333376\n",
            "PEAK DATE : 2020-07-24 00:00:00\n",
            "END DATE: 2020-11-16 00:00:00\n"
          ],
          "name": "stdout"
        }
      ]
    }
  ]
}